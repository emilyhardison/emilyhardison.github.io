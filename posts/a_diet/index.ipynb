{
  "cells": [
    {
      "cell_type": "raw",
      "metadata": {},
      "source": [
        "---\n",
        "title: <h class = \"large-gray-text\"> Animal nutrition & temperature </h>\n",
        "image: OPA_lab3.jpeg\n",
        "format:\n",
        "  html:\n",
        "    code-fold: true\n",
        "toc: true\n",
        "draft: false\n",
        "---"
      ],
      "id": "14642f9b"
    },
    {
      "cell_type": "markdown",
      "metadata": {},
      "source": [
        "------------------------------------------------------------------------\n",
        " \n",
        "<p>\n",
        "\n",
        "</p>\n",
        "\n",
        "Food provides essential nutrients and fuel that animals need to respond to changes in their environment (e.g., oxygen, pH, temperature, salinity...). But humans are impacting what animals have available to eat and the quality of that food. In my PhD thesis, I have been studying how changes in food quantity, food options, and food quality impact thermal plasticity and tolerance of a temperate omnivorous fish called opaleye.\n",
        "\n",
        "<center>\n",
        "\n",
        "\n",
        "```{r}\n",
        "#| eval: true\n",
        "#| echo: false\n",
        "#| layout-ncol: 2\n",
        "#| fig-cap-location: margin\n",
        "#| fig-align: center\n",
        "#| fig-subcap: \n",
        "#| - \"*Fishing down at Stearns Wharf in Santa Barbara for tiny opaleye. Yes, I have tried to cacth them with peas. No, it did not work.*\"\n",
        "#| - \"*Big thanks to everyone that helped me fish!*\"\n",
        "\n",
        " knitr::include_graphics(\"opaleye_fishing_3.jpeg\")\n",
        " knitr::include_graphics(\"opaleye_fishing_1.jpg\")\n",
        "\n",
        "```\n",
        "\n",
        "\n",
        "</center>\n",
        "\n",
        "------------------------------------------------------------------------\n",
        "\n",
        "#### Relevant publications:\n",
        "\n",
        "-   **Emily A. Hardison**, Gail D. Schwieterman, Erika J. Eliason (2023). Diet changes thermal acclimation capacity, but not acclimation rate in a marine ectotherm (Girella nigricans) during warming. Proceedings of the Royal Society B. https://doi.org/10.1098/rspb.2022.2505\n",
        "\n",
        "-   **Emily A. Hardison**, Krista Kraskura, Jacey Van Wert, Tina Nguyen, Erika J. Eliason. (2021). Diet mediates thermal performance traits: implications for marine ectotherms. Journal of Experimental Biology. doi: 10.1242/jeb.242846. https://doi.org/10.1242/jeb.242846."
      ],
      "id": "cb2c9e36"
    }
  ],
  "metadata": {
    "kernelspec": {
      "display_name": "Python 3",
      "language": "python",
      "name": "python3"
    }
  },
  "nbformat": 4,
  "nbformat_minor": 5
}